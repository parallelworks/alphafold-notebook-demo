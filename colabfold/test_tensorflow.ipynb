{
 "cells": [
  {
   "cell_type": "markdown",
   "metadata": {},
   "source": [
    "# Simple TensorFLow test\n",
    "\n",
    "This notebook can be used to benchmark/test your TF installation. It is based on a [blog post by Purnendu Shukla (2021)](https://www.analyticsvidhya.com/blog/2021/11/benchmarking-cpu-and-gpu-performance-with-tensorflow/).\n",
    "\n",
    "Including test data during fit process was suggested by [blog post by Jason Brownlee (2022)](https://machinelearningmastery.com/evaluate-performance-deep-learning-models-keras/)."
   ]
  },
  {
   "cell_type": "code",
   "execution_count": 1,
   "metadata": {},
   "outputs": [
    {
     "name": "stderr",
     "output_type": "stream",
     "text": [
      "2022-12-10 13:32:15.291007: I tensorflow/stream_executor/platform/default/dso_loader.cc:49] Successfully opened dynamic library libcudart.so.10.1\n",
      "2022-12-10 13:32:15.291007: I tensorflow/stream_executor/platform/default/dso_loader.cc:49] Successfully opened dynamic library libcudart.so.10.1\n",
      "/gs/gsfs0/users/gstefan/pw/tf3/lib/python3.9/site-packages/scipy/__init__.py:146: UserWarning: A NumPy version >=1.16.5 and <1.23.0 is required for this version of SciPy (detected version 1.23.1\n",
      "  warnings.warn(f\"A NumPy version >={np_minversion} and <{np_maxversion}\"\n",
      "/gs/gsfs0/users/gstefan/pw/tf3/lib/python3.9/site-packages/scipy/__init__.py:146: UserWarning: A NumPy version >=1.16.5 and <1.23.0 is required for this version of SciPy (detected version 1.23.1\n",
      "  warnings.warn(f\"A NumPy version >={np_minversion} and <{np_maxversion}\"\n"
     ]
    }
   ],
   "source": [
    "import tensorflow as tf\n",
    "from tensorflow import keras\n",
    "import numpy as np"
   ]
  },
  {
   "cell_type": "markdown",
   "metadata": {},
   "source": [
    "## Test TF installation"
   ]
  },
  {
   "cell_type": "code",
   "execution_count": 2,
   "metadata": {},
   "outputs": [
    {
     "name": "stdout",
     "output_type": "stream",
     "text": [
      "Step 1: Initial GPU presence tests...\n",
      "[PhysicalDevice(name='/physical_device:CPU:0', device_type='CPU'), PhysicalDevice(name='/physical_device:GPU:0', device_type='GPU')]\n",
      "[PhysicalDevice(name='/physical_device:GPU:0', device_type='GPU')]\n",
      "True\n"
     ]
    },
    {
     "name": "stderr",
     "output_type": "stream",
     "text": [
      "2022-12-10 13:33:13.099141: I tensorflow/compiler/jit/xla_cpu_device.cc:41] Not creating XLA devices, tf_xla_enable_xla_devices not set\n",
      "2022-12-10 13:33:13.180145: I tensorflow/stream_executor/platform/default/dso_loader.cc:49] Successfully opened dynamic library libcuda.so.1\n",
      "2022-12-10 13:33:13.495229: I tensorflow/core/common_runtime/gpu/gpu_device.cc:1720] Found device 0 with properties: \n",
      "pciBusID: 0000:41:00.0 name: NVIDIA A100-PCIE-40GB computeCapability: 8.0\n",
      "coreClock: 1.41GHz coreCount: 108 deviceMemorySize: 39.41GiB deviceMemoryBandwidth: 1.41TiB/s\n",
      "2022-12-10 13:33:13.495276: I tensorflow/stream_executor/platform/default/dso_loader.cc:49] Successfully opened dynamic library libcudart.so.10.1\n",
      "2022-12-10 13:33:14.364286: I tensorflow/stream_executor/platform/default/dso_loader.cc:49] Successfully opened dynamic library libcublas.so.10\n",
      "2022-12-10 13:33:14.364344: I tensorflow/stream_executor/platform/default/dso_loader.cc:49] Successfully opened dynamic library libcublasLt.so.10\n",
      "2022-12-10 13:33:14.760911: I tensorflow/stream_executor/platform/default/dso_loader.cc:49] Successfully opened dynamic library libcufft.so.10\n",
      "2022-12-10 13:33:14.899911: I tensorflow/stream_executor/platform/default/dso_loader.cc:49] Successfully opened dynamic library libcurand.so.10\n",
      "2022-12-10 13:33:15.538269: I tensorflow/stream_executor/platform/default/dso_loader.cc:49] Successfully opened dynamic library libcusolver.so.10\n",
      "2022-12-10 13:33:15.673146: I tensorflow/stream_executor/platform/default/dso_loader.cc:49] Successfully opened dynamic library libcusparse.so.10\n",
      "2022-12-10 13:33:17.379413: I tensorflow/stream_executor/platform/default/dso_loader.cc:49] Successfully opened dynamic library libcudnn.so.7\n",
      "2022-12-10 13:33:17.383828: I tensorflow/core/common_runtime/gpu/gpu_device.cc:1862] Adding visible gpu devices: 0\n"
     ]
    },
    {
     "name": "stdout",
     "output_type": "stream",
     "text": [
      "Step 1: Initial GPU presence tests...\n",
      "[PhysicalDevice(name='/physical_device:CPU:0', device_type='CPU'), PhysicalDevice(name='/physical_device:GPU:0', device_type='GPU')]\n",
      "[PhysicalDevice(name='/physical_device:GPU:0', device_type='GPU')]\n",
      "True\n"
     ]
    },
    {
     "name": "stderr",
     "output_type": "stream",
     "text": [
      "2022-12-10 13:33:13.099141: I tensorflow/compiler/jit/xla_cpu_device.cc:41] Not creating XLA devices, tf_xla_enable_xla_devices not set\n",
      "2022-12-10 13:33:13.180145: I tensorflow/stream_executor/platform/default/dso_loader.cc:49] Successfully opened dynamic library libcuda.so.1\n",
      "2022-12-10 13:33:13.495229: I tensorflow/core/common_runtime/gpu/gpu_device.cc:1720] Found device 0 with properties: \n",
      "pciBusID: 0000:41:00.0 name: NVIDIA A100-PCIE-40GB computeCapability: 8.0\n",
      "coreClock: 1.41GHz coreCount: 108 deviceMemorySize: 39.41GiB deviceMemoryBandwidth: 1.41TiB/s\n",
      "2022-12-10 13:33:13.495276: I tensorflow/stream_executor/platform/default/dso_loader.cc:49] Successfully opened dynamic library libcudart.so.10.1\n",
      "2022-12-10 13:33:14.364286: I tensorflow/stream_executor/platform/default/dso_loader.cc:49] Successfully opened dynamic library libcublas.so.10\n",
      "2022-12-10 13:33:14.364344: I tensorflow/stream_executor/platform/default/dso_loader.cc:49] Successfully opened dynamic library libcublasLt.so.10\n",
      "2022-12-10 13:33:14.760911: I tensorflow/stream_executor/platform/default/dso_loader.cc:49] Successfully opened dynamic library libcufft.so.10\n",
      "2022-12-10 13:33:14.899911: I tensorflow/stream_executor/platform/default/dso_loader.cc:49] Successfully opened dynamic library libcurand.so.10\n",
      "2022-12-10 13:33:15.538269: I tensorflow/stream_executor/platform/default/dso_loader.cc:49] Successfully opened dynamic library libcusolver.so.10\n",
      "2022-12-10 13:33:15.673146: I tensorflow/stream_executor/platform/default/dso_loader.cc:49] Successfully opened dynamic library libcusparse.so.10\n",
      "2022-12-10 13:33:17.379413: I tensorflow/stream_executor/platform/default/dso_loader.cc:49] Successfully opened dynamic library libcudnn.so.7\n",
      "2022-12-10 13:33:17.383828: I tensorflow/core/common_runtime/gpu/gpu_device.cc:1862] Adding visible gpu devices: 0\n"
     ]
    }
   ],
   "source": [
    "# Initial tests\n",
    "print(\"Step 1: Initial GPU presence tests...\")\n",
    "print(tf.config.experimental.list_physical_devices())\n",
    "print(tf.config.list_physical_devices('GPU'))\n",
    "print(tf.test.is_built_with_cuda())"
   ]
  },
  {
   "cell_type": "markdown",
   "metadata": {},
   "source": [
    "## Define a neural network model"
   ]
  },
  {
   "cell_type": "code",
   "execution_count": 3,
   "metadata": {},
   "outputs": [
    {
     "name": "stdout",
     "output_type": "stream",
     "text": [
      "Data shapes:\n",
      "Data shapes:\n"
     ]
    }
   ],
   "source": [
    "# Download/preprocess data\n",
    "(X_train, y_train), (X_test, y_test) = keras.datasets.cifar10.load_data()\n",
    "X_train_scaled = X_train/255\n",
    "X_test_scaled = X_test/255\n",
    "y_train_encoded = keras.utils.to_categorical(y_train, num_classes = 10, dtype = 'float32')\n",
    "\n",
    "print('Data shapes:')\n",
    "X_train_scaled.shape\n",
    "y_train_encoded.shape\n",
    "\n",
    "# Define the model\n",
    "def get_model():\n",
    "    model = keras.Sequential([\n",
    "        keras.layers.Flatten(input_shape=(32,32,3)),\n",
    "        keras.layers.Dense(3000, activation='relu'),\n",
    "        keras.layers.Dense(3000, activation='relu'),\n",
    "        keras.layers.Dense(3000, activation='relu'),\n",
    "        keras.layers.Dense(3000, activation='relu'),\n",
    "        keras.layers.Dense(3000, activation='relu'),\n",
    "        keras.layers.Dense(3000, activation='relu'),\n",
    "        keras.layers.Dense(3000, activation='relu'),\n",
    "        keras.layers.Dense(3000, activation='relu'),\n",
    "        keras.layers.Dense(3000, activation='relu'),\n",
    "        keras.layers.Dense(3000, activation='relu'),\n",
    "        keras.layers.Dense(3000, activation='relu'),\n",
    "        keras.layers.Dense(3000, activation='relu'),\n",
    "        keras.layers.Dense(3000, activation='relu'),\n",
    "        keras.layers.Dense(3000, activation='relu'),\n",
    "        keras.layers.Dense(3000, activation='relu'),\n",
    "        keras.layers.Dense(3000, activation='relu'),\n",
    "        keras.layers.Dense(3000, activation='relu'),\n",
    "        keras.layers.Dense(3000, activation='relu'),\n",
    "        keras.layers.Dense(3000, activation='relu'),\n",
    "        keras.layers.Dense(3000, activation='relu'),\n",
    "        keras.layers.Dense(3000, activation='relu'),\n",
    "        keras.layers.Dense(3000, activation='relu'),\n",
    "        keras.layers.Dense(3000, activation='relu'),\n",
    "        keras.layers.Dense(3000, activation='relu'),\n",
    "        keras.layers.Dense(1000, activation='relu'),\n",
    "        keras.layers.Dense(10, activation='sigmoid')\n",
    "    ])\n",
    "    model.compile(optimizer='SGD',\n",
    "                  loss='categorical_crossentropy',\n",
    "                  metrics=['accuracy'])\n",
    "    return model\n",
    "\n",
    "# Define a small model\n",
    "def get_small_model():\n",
    "    model = keras.Sequential([\n",
    "        keras.layers.Flatten(input_shape=(32,32,3)),\n",
    "        keras.layers.Dense(3000, activation='relu'),\n",
    "        keras.layers.Dense(1000, activation='relu'),\n",
    "        keras.layers.Dense(10, activation='sigmoid')\n",
    "    ])\n",
    "    model.compile(optimizer='SGD',\n",
    "                  loss='categorical_crossentropy',\n",
    "                  metrics=['accuracy'])\n",
    "    return model"
   ]
  },
  {
   "cell_type": "markdown",
   "metadata": {},
   "source": [
    "## Train model on CPU\n",
    "\n",
    "This should be slow, about 1 minute per epoch. With the 18 additional layers, it takes closer to 30 minutes per epoch!"
   ]
  },
  {
   "cell_type": "code",
   "execution_count": 4,
   "metadata": {
    "scrolled": true
   },
   "outputs": [
    {
     "name": "stderr",
     "output_type": "stream",
     "text": [
      "2022-12-10 13:33:20.065598: I tensorflow/core/platform/cpu_feature_guard.cc:142] This TensorFlow binary is optimized with oneAPI Deep Neural Network Library (oneDNN) to use the following CPU instructions in performance-critical operations:  SSE4.1 SSE4.2 AVX AVX2 FMA\n",
      "To enable them in other operations, rebuild TensorFlow with the appropriate compiler flags.\n",
      "2022-12-10 13:33:20.079146: I tensorflow/compiler/jit/xla_gpu_device.cc:99] Not creating XLA devices, tf_xla_enable_xla_devices not set\n",
      "2022-12-10 13:33:20.081518: I tensorflow/core/common_runtime/gpu/gpu_device.cc:1720] Found device 0 with properties: \n",
      "pciBusID: 0000:41:00.0 name: NVIDIA A100-PCIE-40GB computeCapability: 8.0\n",
      "coreClock: 1.41GHz coreCount: 108 deviceMemorySize: 39.41GiB deviceMemoryBandwidth: 1.41TiB/s\n",
      "2022-12-10 13:33:20.081548: I tensorflow/stream_executor/platform/default/dso_loader.cc:49] Successfully opened dynamic library libcudart.so.10.1\n",
      "2022-12-10 13:33:20.081566: I tensorflow/stream_executor/platform/default/dso_loader.cc:49] Successfully opened dynamic library libcublas.so.10\n",
      "2022-12-10 13:33:20.081574: I tensorflow/stream_executor/platform/default/dso_loader.cc:49] Successfully opened dynamic library libcublasLt.so.10\n",
      "2022-12-10 13:33:20.081581: I tensorflow/stream_executor/platform/default/dso_loader.cc:49] Successfully opened dynamic library libcufft.so.10\n",
      "2022-12-10 13:33:20.081589: I tensorflow/stream_executor/platform/default/dso_loader.cc:49] Successfully opened dynamic library libcurand.so.10\n",
      "2022-12-10 13:33:20.081596: I tensorflow/stream_executor/platform/default/dso_loader.cc:49] Successfully opened dynamic library libcusolver.so.10\n",
      "2022-12-10 13:33:20.081603: I tensorflow/stream_executor/platform/default/dso_loader.cc:49] Successfully opened dynamic library libcusparse.so.10\n",
      "2022-12-10 13:33:20.081611: I tensorflow/stream_executor/platform/default/dso_loader.cc:49] Successfully opened dynamic library libcudnn.so.7\n",
      "2022-12-10 13:33:20.085546: I tensorflow/core/common_runtime/gpu/gpu_device.cc:1862] Adding visible gpu devices: 0\n",
      "2022-12-10 13:33:20.085578: I tensorflow/stream_executor/platform/default/dso_loader.cc:49] Successfully opened dynamic library libcudart.so.10.1\n",
      "2022-12-10 13:39:23.974456: I tensorflow/core/common_runtime/gpu/gpu_device.cc:1261] Device interconnect StreamExecutor with strength 1 edge matrix:\n",
      "2022-12-10 13:39:23.974494: I tensorflow/core/common_runtime/gpu/gpu_device.cc:1267]      0 \n",
      "2022-12-10 13:39:23.974511: I tensorflow/core/common_runtime/gpu/gpu_device.cc:1280] 0:   N \n",
      "2022-12-10 13:39:24.031653: I tensorflow/core/common_runtime/gpu/gpu_device.cc:1406] Created TensorFlow device (/job:localhost/replica:0/task:0/device:GPU:0 with 37401 MB memory) -> physical GPU (device: 0, name: NVIDIA A100-PCIE-40GB, pci bus id: 0000:41:00.0, compute capability: 8.0)\n",
      "2022-12-10 13:33:20.065598: I tensorflow/core/platform/cpu_feature_guard.cc:142] This TensorFlow binary is optimized with oneAPI Deep Neural Network Library (oneDNN) to use the following CPU instructions in performance-critical operations:  SSE4.1 SSE4.2 AVX AVX2 FMA\n",
      "To enable them in other operations, rebuild TensorFlow with the appropriate compiler flags.\n",
      "2022-12-10 13:33:20.079146: I tensorflow/compiler/jit/xla_gpu_device.cc:99] Not creating XLA devices, tf_xla_enable_xla_devices not set\n",
      "2022-12-10 13:33:20.081518: I tensorflow/core/common_runtime/gpu/gpu_device.cc:1720] Found device 0 with properties: \n",
      "pciBusID: 0000:41:00.0 name: NVIDIA A100-PCIE-40GB computeCapability: 8.0\n",
      "coreClock: 1.41GHz coreCount: 108 deviceMemorySize: 39.41GiB deviceMemoryBandwidth: 1.41TiB/s\n",
      "2022-12-10 13:33:20.081548: I tensorflow/stream_executor/platform/default/dso_loader.cc:49] Successfully opened dynamic library libcudart.so.10.1\n",
      "2022-12-10 13:33:20.081566: I tensorflow/stream_executor/platform/default/dso_loader.cc:49] Successfully opened dynamic library libcublas.so.10\n",
      "2022-12-10 13:33:20.081574: I tensorflow/stream_executor/platform/default/dso_loader.cc:49] Successfully opened dynamic library libcublasLt.so.10\n",
      "2022-12-10 13:33:20.081581: I tensorflow/stream_executor/platform/default/dso_loader.cc:49] Successfully opened dynamic library libcufft.so.10\n",
      "2022-12-10 13:33:20.081589: I tensorflow/stream_executor/platform/default/dso_loader.cc:49] Successfully opened dynamic library libcurand.so.10\n",
      "2022-12-10 13:33:20.081596: I tensorflow/stream_executor/platform/default/dso_loader.cc:49] Successfully opened dynamic library libcusolver.so.10\n",
      "2022-12-10 13:33:20.081603: I tensorflow/stream_executor/platform/default/dso_loader.cc:49] Successfully opened dynamic library libcusparse.so.10\n",
      "2022-12-10 13:33:20.081611: I tensorflow/stream_executor/platform/default/dso_loader.cc:49] Successfully opened dynamic library libcudnn.so.7\n",
      "2022-12-10 13:33:20.085546: I tensorflow/core/common_runtime/gpu/gpu_device.cc:1862] Adding visible gpu devices: 0\n",
      "2022-12-10 13:33:20.085578: I tensorflow/stream_executor/platform/default/dso_loader.cc:49] Successfully opened dynamic library libcudart.so.10.1\n",
      "2022-12-10 13:39:23.974456: I tensorflow/core/common_runtime/gpu/gpu_device.cc:1261] Device interconnect StreamExecutor with strength 1 edge matrix:\n",
      "2022-12-10 13:39:23.974494: I tensorflow/core/common_runtime/gpu/gpu_device.cc:1267]      0 \n",
      "2022-12-10 13:39:23.974511: I tensorflow/core/common_runtime/gpu/gpu_device.cc:1280] 0:   N \n",
      "2022-12-10 13:39:24.031653: I tensorflow/core/common_runtime/gpu/gpu_device.cc:1406] Created TensorFlow device (/job:localhost/replica:0/task:0/device:GPU:0 with 37401 MB memory) -> physical GPU (device: 0, name: NVIDIA A100-PCIE-40GB, pci bus id: 0000:41:00.0, compute capability: 8.0)\n",
      "2022-12-10 13:39:25.463423: I tensorflow/compiler/mlir/mlir_graph_optimization_pass.cc:116] None of the MLIR optimization passes are enabled (registered 2)\n",
      "2022-12-10 13:39:25.481326: I tensorflow/core/platform/profile_utils/cpu_utils.cc:112] CPU Frequency: 2999950000 Hz\n",
      "2022-12-10 13:39:25.463423: I tensorflow/compiler/mlir/mlir_graph_optimization_pass.cc:116] None of the MLIR optimization passes are enabled (registered 2)\n",
      "2022-12-10 13:39:25.481326: I tensorflow/core/platform/profile_utils/cpu_utils.cc:112] CPU Frequency: 2999950000 Hz\n"
     ]
    },
    {
     "name": "stdout",
     "output_type": "stream",
     "text": [
      "Epoch 1/10\n",
      "Epoch 1/10\n",
      "1563/1563 [==============================] - 67s 42ms/step - loss: 1.9284 - accuracy: 0.3033\n",
      "1563/1563 [==============================] - 67s 42ms/step - loss: 1.9284 - accuracy: 0.3033\n",
      "Epoch 2/10\n",
      "   1/1563 [..............................] - ETA: 1:09 - loss: 1.7471 - accuracy: 0.3750Epoch 2/10\n",
      "1563/1563 [==============================] - 65s 42ms/step - loss: 1.6449 - accuracy: 0.4193\n",
      "1563/1563 [==============================] - 65s 42ms/step - loss: 1.6449 - accuracy: 0.4193\n",
      "Epoch 3/10\n",
      "   1/1563 [..............................] - ETA: 1:09 - loss: 1.3751 - accuracy: 0.5938Epoch 3/10\n",
      "1563/1563 [==============================] - 65s 42ms/step - loss: 1.5497 - accuracy: 0.4531\n",
      "1563/1563 [==============================] - 65s 42ms/step - loss: 1.5497 - accuracy: 0.4531\n",
      "Epoch 4/10\n",
      "   1/1563 [..............................] - ETA: 1:08 - loss: 1.5935 - accuracy: 0.4375Epoch 4/10\n",
      "1563/1563 [==============================] - 65s 42ms/step - loss: 1.4912 - accuracy: 0.4768\n",
      "Epoch 5/10\n",
      "1563/1563 [==============================] - 65s 42ms/step - loss: 1.4912 - accuracy: 0.4768\n",
      "Epoch 5/10\n",
      "1563/1563 [==============================] - 65s 42ms/step - loss: 1.4458 - accuracy: 0.4901\n",
      "1563/1563 [==============================] - 65s 42ms/step - loss: 1.4458 - accuracy: 0.4901\n",
      "Epoch 6/10\n",
      "   1/1563 [..............................] - ETA: 1:10 - loss: 1.2388 - accuracy: 0.6562Epoch 6/10\n",
      "1563/1563 [==============================] - 65s 42ms/step - loss: 1.3978 - accuracy: 0.5095\n",
      "1563/1563 [==============================] - 65s 42ms/step - loss: 1.3978 - accuracy: 0.5095\n",
      "Epoch 7/10\n",
      "   1/1563 [..............................] - ETA: 1:05 - loss: 1.1437 - accuracy: 0.5938Epoch 7/10\n",
      "1563/1563 [==============================] - 65s 42ms/step - loss: 1.3464 - accuracy: 0.5294\n",
      "1563/1563 [==============================] - 65s 42ms/step - loss: 1.3464 - accuracy: 0.5294\n",
      "Epoch 8/10\n",
      "   1/1563 [..............................] - ETA: 1:11 - loss: 1.2209 - accuracy: 0.5938Epoch 8/10\n",
      "1563/1563 [==============================] - 65s 42ms/step - loss: 1.3293 - accuracy: 0.5345\n",
      "Epoch 9/10\n",
      "1563/1563 [==============================] - 65s 42ms/step - loss: 1.3293 - accuracy: 0.5345\n",
      "Epoch 9/10\n",
      "1563/1563 [==============================] - 65s 42ms/step - loss: 1.2832 - accuracy: 0.5523\n",
      "1563/1563 [==============================] - 65s 42ms/step - loss: 1.2832 - accuracy: 0.5523\n",
      "Epoch 10/10\n",
      "   1/1563 [..............................] - ETA: 1:08 - loss: 1.2261 - accuracy: 0.6875Epoch 10/10\n",
      "1563/1563 [==============================] - 66s 42ms/step - loss: 1.2526 - accuracy: 0.5642\n",
      "1563/1563 [==============================] - 66s 42ms/step - loss: 1.2526 - accuracy: 0.5642\n"
     ]
    }
   ],
   "source": [
    "with tf.device('/CPU:0'):\n",
    "    model_cpu = get_small_model()\n",
    "    model_cpu.fit(X_train_scaled, y_train_encoded, epochs = 10)\n",
    "    #validation_data=(X_test_scaled, y_train_encoded), epochs = 10)"
   ]
  },
  {
   "cell_type": "markdown",
   "metadata": {},
   "source": [
    "## Train the same model on GPU\n",
    "\n",
    "This should go much faster at a few seconds per epoch. The first epoch is the slowest."
   ]
  },
  {
   "cell_type": "code",
   "execution_count": 5,
   "metadata": {},
   "outputs": [
    {
     "name": "stdout",
     "output_type": "stream",
     "text": [
      "Epoch 1/10\n",
      "Epoch 1/10\n"
     ]
    },
    {
     "name": "stderr",
     "output_type": "stream",
     "text": [
      "2022-12-10 13:50:23.266438: I tensorflow/stream_executor/platform/default/dso_loader.cc:49] Successfully opened dynamic library libcublas.so.10\n",
      "2022-12-10 13:50:23.266438: I tensorflow/stream_executor/platform/default/dso_loader.cc:49] Successfully opened dynamic library libcublas.so.10\n"
     ]
    },
    {
     "name": "stdout",
     "output_type": "stream",
     "text": [
      "1563/1563 [==============================] - 116s 2ms/step - loss: 1.9305 - accuracy: 0.3063\n",
      "Epoch 2/10\n",
      "1563/1563 [==============================] - 116s 2ms/step - loss: 1.9305 - accuracy: 0.3063\n",
      "Epoch 2/10\n",
      "1563/1563 [==============================] - 3s 2ms/step - loss: 1.6519 - accuracy: 0.4187\n",
      "Epoch 3/10\n",
      "1563/1563 [==============================] - 3s 2ms/step - loss: 1.6519 - accuracy: 0.4187\n",
      "Epoch 3/10\n",
      "1563/1563 [==============================] - 3s 2ms/step - loss: 1.5497 - accuracy: 0.4530\n",
      "1563/1563 [==============================] - 3s 2ms/step - loss: 1.5497 - accuracy: 0.4530\n",
      "Epoch 4/10\n",
      "   1/1563 [..............................] - ETA: 3s - loss: 1.5647 - accuracy: 0.4062Epoch 4/10\n",
      "1563/1563 [==============================] - 3s 2ms/step - loss: 1.4924 - accuracy: 0.4720\n",
      "1563/1563 [==============================] - 3s 2ms/step - loss: 1.4924 - accuracy: 0.4720\n",
      "Epoch 5/10\n",
      "   1/1563 [..............................] - ETA: 3s - loss: 1.2332 - accuracy: 0.5938Epoch 5/10\n",
      "1563/1563 [==============================] - 3s 2ms/step - loss: 1.4367 - accuracy: 0.4922\n",
      "1563/1563 [==============================] - 3s 2ms/step - loss: 1.4367 - accuracy: 0.4922\n",
      "Epoch 6/10\n",
      "   1/1563 [..............................] - ETA: 3s - loss: 1.5692 - accuracy: 0.3438Epoch 6/10\n",
      "1563/1563 [==============================] - 3s 2ms/step - loss: 1.3921 - accuracy: 0.5083\n",
      "Epoch 7/10\n",
      "1563/1563 [==============================] - 3s 2ms/step - loss: 1.3921 - accuracy: 0.5083\n",
      "Epoch 7/10\n",
      "1563/1563 [==============================] - 3s 2ms/step - loss: 1.3528 - accuracy: 0.5254\n",
      "Epoch 8/10\n",
      "1563/1563 [==============================] - 3s 2ms/step - loss: 1.3528 - accuracy: 0.5254\n",
      "Epoch 8/10\n",
      "1563/1563 [==============================] - 3s 2ms/step - loss: 1.3120 - accuracy: 0.5397\n",
      "1563/1563 [==============================] - 3s 2ms/step - loss: 1.3120 - accuracy: 0.5397\n",
      "Epoch 9/10\n",
      "   1/1563 [..............................] - ETA: 3s - loss: 1.6309 - accuracy: 0.4375Epoch 9/10\n",
      "1563/1563 [==============================] - 3s 2ms/step - loss: 1.2940 - accuracy: 0.5423\n",
      "1563/1563 [==============================] - 3s 2ms/step - loss: 1.2940 - accuracy: 0.5423\n",
      "Epoch 10/10\n",
      "   1/1563 [..............................] - ETA: 3s - loss: 1.4310 - accuracy: 0.4062Epoch 10/10\n",
      "1563/1563 [==============================] - 3s 2ms/step - loss: 1.2589 - accuracy: 0.5562\n",
      "1563/1563 [==============================] - 3s 2ms/step - loss: 1.2589 - accuracy: 0.5562\n"
     ]
    }
   ],
   "source": [
    "with tf.device('/GPU:0'):\n",
    "    model_gpu = get_small_model()\n",
    "    model_gpu.fit(X_train_scaled, y_train_encoded, epochs = 10)\n",
    "    #validation_data=(X_test_scaled, y_train_encoded), epochs = 10)"
   ]
  },
  {
   "cell_type": "code",
   "execution_count": null,
   "metadata": {},
   "outputs": [],
   "source": []
  }
 ],
 "metadata": {
  "kernelspec": {
   "display_name": "Python [conda env:tf3]",
   "language": "python",
   "name": "conda-env-tf3-py"
  },
  "language_info": {
   "codemirror_mode": {
    "name": "ipython",
    "version": 3
   },
   "file_extension": ".py",
   "mimetype": "text/x-python",
   "name": "python",
   "nbconvert_exporter": "python",
   "pygments_lexer": "ipython3",
   "version": "3.9.12"
  }
 },
 "nbformat": 4,
 "nbformat_minor": 2
}
